{
 "cells": [
  {
   "cell_type": "code",
   "execution_count": 1,
   "metadata": {},
   "outputs": [],
   "source": [
    "from dotenv import load_dotenv\n",
    "from IPython.display import clear_output\n",
    "\n",
    "from service.solve import solve\n",
    "from utils.file_utils import get_file, move_file\n",
    "from prompt.prompts import BASE_PROMPT, CONCLUSION_PROMPT"
   ]
  },
  {
   "cell_type": "code",
   "execution_count": 2,
   "metadata": {},
   "outputs": [
    {
     "data": {
      "text/plain": [
       "True"
      ]
     },
     "execution_count": 2,
     "metadata": {},
     "output_type": "execute_result"
    }
   ],
   "source": [
    "# Load environment variables from .env file.\n",
    "# Make sure to add all required variables to your .env file.\n",
    "\n",
    "load_dotenv()"
   ]
  },
  {
   "cell_type": "code",
   "execution_count": null,
   "metadata": {},
   "outputs": [],
   "source": [
    "#To get the initial results\n",
    "#If all the answers were same, it is the correct answer\n",
    "#If not, run the next cell to get the conclusion\n",
    "\n",
    "image_path = get_file(\"/mnt/c/Users/sajith.surgunam/Pictures/Screenshots\")\n",
    "clear_output()\n",
    "result = solve(image_path, BASE_PROMPT)"
   ]
  },
  {
   "cell_type": "code",
   "execution_count": null,
   "metadata": {},
   "outputs": [
    {
     "name": "stdout",
     "output_type": "stream",
     "text": [
      "\n",
      "\u001b[91mgemini-2.5-pro-preview-05-06 output:\n",
      "The correct values to complete the program are:\n",
      "First blank: `0`\n",
      "Second blank: `res`\n",
      "\n",
      "**Explanation of the correct answer:**\n",
      "\n",
      "The problem requires completing a Java function `fac(int x)` that calculates the factorial of `x` (denoted `x!`) if `x` is non-negative, and returns `1` if `x` is negative.\n",
      "\n",
      "The provided code structure is:\n",
      "```java\n",
      "public class Test {\n",
      "    public static int fac(int x) {\n",
      "        int res = 1; // Initialize result\n",
      "\n",
      "        while (x > ______) { // First blank: loop condition\n",
      "            res *= x;    // Multiply result by current x\n",
      "            x--;         // Decrement x\n",
      "        }\n",
      "\n",
      "        return ______; // Second blank: value to return\n",
      "    }\n",
      "}\n",
      "```\n",
      "\n",
      "**Step 1: Determining the content for the first blank (loop condition)**\n",
      "\n",
      "The variable `res` is initialized to `1`. The loop is intended to multiply `res` by `x`, then `x-1`, `x-2`, ..., down to `1`.\n",
      "\n",
      "*   **If `x` is positive (e.g., `x = 3`):**\n",
      "    *   We want to calculate `3 * 2 * 1`.\n",
      "    *   The loop should execute when `x = 3`, then `x = 2`, then `x = 1`.\n",
      "    *   After `res` is multiplied by `1`, `x` becomes `0`. At this point, the loop should terminate.\n",
      "    *   Therefore, the loop should continue as long as `x > 0`. So, the first blank should be `0`.\n",
      "\n",
      "*   **If `x` is `0`:**\n",
      "    *   The factorial `0!` is `1`.\n",
      "    *   `res` is initialized to `1`.\n",
      "    *   If the condition is `x > 0`, then `0 > 0` is false. The loop will not execute.\n",
      "    *   The function will then proceed to the return statement. This is correct.\n",
      "\n",
      "*   **If `x` is negative (e.g., `x = -5`):**\n",
      "    *   The problem states the function should return `1`.\n",
      "    *   `res` is initialized to `1`.\n",
      "    *   If the condition is `x > 0`, then `-5 > 0` is false. The loop will not execute.\n",
      "    *   The function will then proceed to the return statement. This is correct.\n",
      "\n",
      "Thus, filling the first blank with `0` to make the condition `while (x > 0)` correctly handles all cases.\n",
      "\n",
      "**Step 2: Determining the content for the second blank (return value)**\n",
      "\n",
      "*   **If `x` was initially positive:** The loop calculates `x!` and stores it in `res`. For example, if `x=3`, `res` becomes `6`.\n",
      "*   **If `x` was initially `0`:** The loop does not execute, and `res` remains `1` (which is `0!`).\n",
      "*   **If `x` was initially negative:** The loop does not execute, and `res` remains `1` (which is the required return value for negative `x`).\n",
      "\n",
      "In all cases, the variable `res` holds the correct value that the function needs to return. Therefore, the second blank should be filled with `res`.\n",
      "\n",
      "**Completed Program:**\n",
      "```java\n",
      "public class Test {\n",
      "    public static int fac(int x) {\n",
      "        int res = 1;\n",
      "        while (x > 0) { // First blank filled with 0\n",
      "            res *= x;\n",
      "            x--;\n",
      "        }\n",
      "        return res; // Second blank filled with res\n",
      "    }\n",
      "}\n",
      "```\n",
      "\n",
      "**Analysis of Student Answers:**\n",
      "\n",
      "*   **Student 1's answer:**\n",
      "    *   Correctly identifies the first blank as `0` and the second blank as `res`.\n",
      "    *   The reasoning provided for both blanks is accurate, covering positive, zero, and negative cases for `x`.\n",
      "    *   **Conclusion:** Student 1's answer is correct.\n",
      "\n",
      "*   **Student 2's answer:**\n",
      "    *   The \"Answer first: 0\" and \"Correct option: 0\" part is ambiguous and incomplete for a problem with two blanks. It seems to only address the first blank.\n",
      "    *   However, the completed code shown by Student 2 is:\n",
      "        ```java\n",
      "        while (x > 0) { ... }\n",
      "        return res;\n",
      "        ```\n",
      "        This correctly uses `0` for the first blank and `res` for the second.\n",
      "    *   The breakdown and explanation of the logic are also correct and cover all cases appropriately.\n",
      "    *   **Conclusion:** While the initial summary is poorly phrased for a two-blank question, the student demonstrates correct understanding and provides the correct code and logic. If \"the answer\" strictly refers to the explicit statement of what fills the blanks, Student 2's initial statement is incomplete. However, the substance of their solution is correct.\n",
      "\n",
      "*   **Student 3's answer:**\n",
      "    *   Clearly and correctly states: \"First blank: `0`\" and \"Second blank: `res`\".\n",
      "    *   Provides a detailed, step-by-step explanation for determining the content of each blank.\n",
      "    *   The analysis for `x > 0`, `x = 0`, and negative `x` is thorough and correct.\n",
      "    *   The verification with examples further confirms the correctness.\n",
      "    *   **Conclusion:** Student 3's answer is correct and very well-explained.\n",
      "\n",
      "**Summary of Analysis:**\n",
      "\n",
      "Students 1 and 3 provide explicitly correct and complete answers for both blanks, along with valid reasoning. Student 2's initial answer statement is incomplete for a two-blank question, but their subsequent code and detailed explanation demonstrate a correct understanding of the solution, effectively filling both blanks correctly in the code.\n",
      "\n",
      "Therefore, **Student 1 and Student 3 provide answers that are fully correct in their statement of the values for the blanks and their explanation.** Student 2's overall solution logic and code are correct, but their initial presentation of \"the answer\" for the blanks is not as clear or complete as the others.\n",
      "--------------------------------------------------\n",
      "\u001b[0m\n"
     ]
    }
   ],
   "source": [
    "#To get the conclusion\n",
    "\n",
    "answers = CONCLUSION_PROMPT\n",
    "for index, res in enumerate(result):\n",
    "    answers += f\"Student {index + 1}'s answer: {res}\\n\\n\"\n",
    "result = solve(image_path, answers)"
   ]
  },
  {
   "cell_type": "code",
   "execution_count": null,
   "metadata": {},
   "outputs": [],
   "source": [
    "#To move the file to a different directory after processing\n",
    "#Change the source and destination paths as needed\n",
    "\n",
    "move_file(\n",
    "    \"/mnt/c/Users/test/Pictures/Screenshots\",\n",
    "    \"/mnt/c/Users/test/Pictures/completed/\",\n",
    ")"
   ]
  }
 ],
 "metadata": {
  "kernelspec": {
   "display_name": "venv",
   "language": "python",
   "name": "python3"
  },
  "language_info": {
   "codemirror_mode": {
    "name": "ipython",
    "version": 3
   },
   "file_extension": ".py",
   "mimetype": "text/x-python",
   "name": "python",
   "nbconvert_exporter": "python",
   "pygments_lexer": "ipython3",
   "version": "3.12.11"
  }
 },
 "nbformat": 4,
 "nbformat_minor": 2
}
