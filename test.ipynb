{
 "cells": [
  {
   "cell_type": "code",
   "execution_count": 1,
   "metadata": {},
   "outputs": [],
   "source": [
    "from dotenv import load_dotenv\n",
    "from IPython.display import clear_output\n",
    "\n",
    "from service.solve import solve\n",
    "from utils.file_utils import get_file, move_file\n",
    "from prompt.prompts import BASE_PROMPT, CONCLUSION_PROMPT"
   ]
  },
  {
   "cell_type": "code",
   "execution_count": 2,
   "metadata": {},
   "outputs": [
    {
     "data": {
      "text/plain": [
       "True"
      ]
     },
     "execution_count": 2,
     "metadata": {},
     "output_type": "execute_result"
    }
   ],
   "source": [
    "# Load environment variables from .env file.\n",
    "# Make sure to add all required variables to your .env file.\n",
    "\n",
    "load_dotenv()"
   ]
  },
  {
   "cell_type": "code",
   "execution_count": null,
   "metadata": {},
   "outputs": [],
   "source": [
    "#To get the initial results\n",
    "#If all the answers were same, it is the correct answer\n",
    "#If not, run the next cell to get the conclusion\n",
    "\n",
    "image_path = get_file(\"/mnt/c/Users/sajith.surgunam/Pictures/Screenshots\")\n",
    "clear_output()\n",
    "result = solve(image_path, BASE_PROMPT)"
   ]
  },
  {
   "cell_type": "code",
   "execution_count": null,
   "metadata": {},
   "outputs": [],
   "source": [
    "#To get the conclusion\n",
    "\n",
    "answers = CONCLUSION_PROMPT\n",
    "for index, res in enumerate(result):\n",
    "    answers += f\"Student {index + 1}'s answer: {res}\\n\\n\"\n",
    "result = solve(image_path, answers)"
   ]
  },
  {
   "cell_type": "code",
   "execution_count": null,
   "metadata": {},
   "outputs": [],
   "source": [
    "#To move the file to a different directory after processing\n",
    "#Change the source and destination paths as needed\n",
    "\n",
    "move_file(\n",
    "    \"/mnt/c/Users/test/Pictures/Screenshots\",\n",
    "    \"/mnt/c/Users/test/Pictures/completed/\",\n",
    ")"
   ]
  }
 ],
 "metadata": {
  "kernelspec": {
   "display_name": "venv",
   "language": "python",
   "name": "python3"
  },
  "language_info": {
   "codemirror_mode": {
    "name": "ipython",
    "version": 3
   },
   "file_extension": ".py",
   "mimetype": "text/x-python",
   "name": "python",
   "nbconvert_exporter": "python",
   "pygments_lexer": "ipython3",
   "version": "3.12.11"
  }
 },
 "nbformat": 4,
 "nbformat_minor": 2
}
